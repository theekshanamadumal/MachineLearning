{
  "nbformat": 4,
  "nbformat_minor": 0,
  "metadata": {
    "colab": {
      "provenance": [],
      "authorship_tag": "ABX9TyMDVB/0Ms7tvLho0wQtwxtZ",
      "include_colab_link": true
    },
    "kernelspec": {
      "name": "python3",
      "display_name": "Python 3"
    },
    "language_info": {
      "name": "python"
    }
  },
  "cells": [
    {
      "cell_type": "markdown",
      "metadata": {
        "id": "view-in-github",
        "colab_type": "text"
      },
      "source": [
        "<a href=\"https://colab.research.google.com/github/theekshanamadumal/MachineLearning/blob/main/PyTorch%20Lightning/MNIST_digits_using_PyTorch.ipynb\" target=\"_parent\"><img src=\"https://colab.research.google.com/assets/colab-badge.svg\" alt=\"Open In Colab\"/></a>"
      ]
    },
    {
      "cell_type": "markdown",
      "source": [
        "model in PyTorch"
      ],
      "metadata": {
        "id": "QcDmt_eEqqba"
      }
    },
    {
      "cell_type": "code",
      "source": [
        "!pip install pytorch_lightning"
      ],
      "metadata": {
        "colab": {
          "base_uri": "https://localhost:8080/"
        },
        "id": "oO5Q_YrWQXgF",
        "outputId": "8a19ac0e-d3f4-460c-d52f-6842b88fbfee"
      },
      "execution_count": 18,
      "outputs": [
        {
          "output_type": "stream",
          "name": "stdout",
          "text": [
            "Installing collected packages: lightning-utilities, torchmetrics, pytorch_lightning\n",
            "Successfully installed lightning-utilities-0.9.0 pytorch_lightning-2.0.4 torchmetrics-1.0.0\n"
          ]
        }
      ]
    },
    {
      "cell_type": "code",
      "execution_count": 19,
      "metadata": {
        "id": "GB1-SLjVkoSb"
      },
      "outputs": [],
      "source": [
        "import torch\n",
        "from torch import nn\n",
        "import pytorch_lightning as pl\n",
        "from torch.utils.data import DataLoader, random_split\n",
        "from torch.nn import functional as F\n",
        "from torchvision.datasets import MNIST\n",
        "from torchvision import datasets, transforms\n",
        "import os"
      ]
    },
    {
      "cell_type": "code",
      "source": [
        "# -----------------\n",
        "# MODEL\n",
        "# -----------------\n",
        "class MNISTClassifier(pl.LightningModule):\n",
        "\n",
        "  def __init__(self):\n",
        "    super(MNISTClassifier, self).__init__()\n",
        "\n",
        "    # mnist images are (1, 28, 28) (channels, width, height)\n",
        "    self.layer_1 = torch.nn.Linear(28 * 28, 128)\n",
        "    self.layer_2 = torch.nn.Linear(128, 256)\n",
        "    self.layer_3 = torch.nn.Linear(256, 10)\n",
        "\n",
        "  def forward(self, x):\n",
        "    batch_size, channels, width, height = x.sizes()\n",
        "\n",
        "    # (b, 1, 28, 28) -> (b, 1*28*28)\n",
        "    x = x.view(batch_size, -1)\n",
        "\n",
        "    # layer 1\n",
        "    x = self.layer_1(x)\n",
        "    x = torch.relu(x)\n",
        "\n",
        "    # layer 2\n",
        "    x = self.layer_2(x)\n",
        "    x = torch.relu(x)\n",
        "\n",
        "    # layer 3\n",
        "    x = self.layer_3(x)\n",
        "\n",
        "    # probability distribution over labels\n",
        "    x = torch.log_softmax(x, dim=1)\n",
        "\n",
        "    return x"
      ],
      "metadata": {
        "id": "U_ScHhX4ss88"
      },
      "execution_count": 20,
      "outputs": []
    },
    {
      "cell_type": "code",
      "source": [
        "# ----------------\n",
        "# DATA\n",
        "# ----------------\n",
        "transform=transforms.Compose([transforms.ToTensor(), transforms.Normalize((0.1307,), (0.3081,))])\n",
        "mnist_train = MNIST(os.getcwd(), train=True, download=True, transform=transform)\n",
        "mnist_test = MNIST(os.getcwd(), train=False, download=True, transform=transform)\n",
        "\n",
        "# train (55,000 images), val split (5,000 images)\n",
        "mnist_train, mnist_val = random_split(mnist_train, [55000, 5000])\n",
        "mnist_test = MNIST(os.getcwd(), train=False, download=True)\n",
        "\n",
        "# The dataloaders handle shuffling, batching, etc...\n",
        "mnist_train = DataLoader(mnist_train, batch_size=64)\n",
        "mnist_val = DataLoader(mnist_val, batch_size=64)\n",
        "mnist_test = DataLoader(mnist_test, batch_size=64)"
      ],
      "metadata": {
        "id": "Wsx0-vI8NEOz"
      },
      "execution_count": 13,
      "outputs": []
    },
    {
      "cell_type": "code",
      "source": [
        "# ----------------\n",
        "# OPTIMIZER\n",
        "# ----------------\n",
        "pytorch_model = MNISTClassifier()\n",
        "optimizer = torch.optim.Adam(pytorch_model.parameters(), lr=1e-3)"
      ],
      "metadata": {
        "id": "mfk2VcNfNJka"
      },
      "execution_count": 21,
      "outputs": []
    },
    {
      "cell_type": "code",
      "source": [
        "# ----------------\n",
        "# LOSS\n",
        "# ----------------\n",
        "def cross_entropy_loss(logits, labels):\n",
        "  return F.nll_loss(logits, labels)"
      ],
      "metadata": {
        "id": "ygzJEcHHNMJt"
      },
      "execution_count": 15,
      "outputs": []
    },
    {
      "cell_type": "code",
      "source": [
        "# ----------------\n",
        "# TRAINING LOOP\n",
        "# ----------------\n",
        "num_epochs = 1\n",
        "for epoch in range(num_epochs):\n",
        "\n",
        "  # TRAINING LOOP\n",
        "  for train_batch in mnist_train:\n",
        "    x, y = train_batch\n",
        "\n",
        "    logits = pytorch_model(x)\n",
        "    loss = cross_entropy_loss(logits, y)\n",
        "    print('train loss: ', loss.item())\n",
        "\n",
        "    loss.backward()\n",
        "\n",
        "    optimizer.step()\n",
        "    optimizer.zero_grad()"
      ],
      "metadata": {
        "id": "fMUrsmPsQjoG"
      },
      "execution_count": null,
      "outputs": []
    },
    {
      "cell_type": "code",
      "source": [
        " # VALIDATION LOOP\n",
        "  with torch.no_grad():\n",
        "    val_loss = []\n",
        "    for val_batch in mnist_val:\n",
        "      x, y = val_batch\n",
        "      logits = pytorch_model(x)\n",
        "      val_loss.append(cross_entropy_loss(logits, y).item())\n",
        "\n",
        "    val_loss = torch.mean(torch.tensor(val_loss))\n",
        "    print('val_loss: ', val_loss.item())"
      ],
      "metadata": {
        "id": "Gdon3Q06NCCR"
      },
      "execution_count": null,
      "outputs": []
    }
  ]
}