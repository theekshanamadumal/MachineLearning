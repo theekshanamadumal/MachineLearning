{
 "cells": [
  {
   "cell_type": "markdown",
   "id": "a018fe9e",
   "metadata": {
    "papermill": {
     "duration": 0.009597,
     "end_time": "2023-05-24T15:47:54.444413",
     "exception": false,
     "start_time": "2023-05-24T15:47:54.434816",
     "status": "completed"
    },
    "tags": []
   },
   "source": [
    "## Time Series Forecasting Using LSTM on Air Passengers data"
   ]
  },
  {
   "cell_type": "code",
   "execution_count": 1,
   "id": "bcc45d5c",
   "metadata": {
    "_cell_guid": "b1076dfc-b9ad-4769-8c92-a6c4dae69d19",
    "_uuid": "8f2839f25d086af736a60e9eeb907d3b93b6e0e5",
    "execution": {
     "iopub.execute_input": "2023-05-24T15:47:54.464439Z",
     "iopub.status.busy": "2023-05-24T15:47:54.463820Z",
     "iopub.status.idle": "2023-05-24T15:47:54.485869Z",
     "shell.execute_reply": "2023-05-24T15:47:54.484305Z"
    },
    "papermill": {
     "duration": 0.036035,
     "end_time": "2023-05-24T15:47:54.489241",
     "exception": false,
     "start_time": "2023-05-24T15:47:54.453206",
     "status": "completed"
    },
    "tags": []
   },
   "outputs": [
    {
     "name": "stdout",
     "output_type": "stream",
     "text": [
      "/kaggle/input/air-passengers/AirPassengers.csv\n"
     ]
    }
   ],
   "source": [
    "# This Python 3 environment comes with many helpful analytics libraries installed\n",
    "# It is defined by the kaggle/python Docker image: https://github.com/kaggle/docker-python\n",
    "# For example, here's several helpful packages to load\n",
    "\n",
    "import numpy as np # linear algebra\n",
    "import pandas as pd # data processing, CSV file I/O (e.g. pd.read_csv)\n",
    "\n",
    "# Input data files are available in the read-only \"../input/\" directory\n",
    "# For example, running this (by clicking run or pressing Shift+Enter) will list all files under the input directory\n",
    "\n",
    "import os\n",
    "for dirname, _, filenames in os.walk('/kaggle/input'):\n",
    "    for filename in filenames:\n",
    "        print(os.path.join(dirname, filename))\n",
    "\n",
    "# You can write up to 20GB to the current directory (/kaggle/working/) that gets preserved as output when you create a version using \"Save & Run All\" \n",
    "# You can also write temporary files to /kaggle/temp/, but they won't be saved outside of the current session"
   ]
  },
  {
   "cell_type": "markdown",
   "id": "4da09e7b",
   "metadata": {
    "papermill": {
     "duration": 0.008501,
     "end_time": "2023-05-24T15:47:54.506443",
     "exception": false,
     "start_time": "2023-05-24T15:47:54.497942",
     "status": "completed"
    },
    "tags": []
   },
   "source": [
    "https://youtu.be/97bZKO6cJfg\n",
    "\n",
    "\n",
    "Dataset from: https://www.kaggle.com/rakannimer/air-passengers\n",
    "\n",
    "International Airline Passengers prediction problem.\n",
    "This is a problem where, given a year and a month, the task is to predict \n",
    "the number of international airline passengers in units of 1,000. \n",
    "The data ranges from January 1949 to December 1960, or 12 years, with 144 observations.\n",
    "\n"
   ]
  },
  {
   "cell_type": "code",
   "execution_count": 2,
   "id": "0e878f0e",
   "metadata": {
    "execution": {
     "iopub.execute_input": "2023-05-24T15:47:54.527819Z",
     "iopub.status.busy": "2023-05-24T15:47:54.527402Z",
     "iopub.status.idle": "2023-05-24T15:48:07.171659Z",
     "shell.execute_reply": "2023-05-24T15:48:07.169960Z"
    },
    "papermill": {
     "duration": 12.659218,
     "end_time": "2023-05-24T15:48:07.174869",
     "exception": false,
     "start_time": "2023-05-24T15:47:54.515651",
     "status": "completed"
    },
    "tags": []
   },
   "outputs": [
    {
     "name": "stderr",
     "output_type": "stream",
     "text": [
      "/opt/conda/lib/python3.10/site-packages/tensorflow_io/python/ops/__init__.py:98: UserWarning: unable to load libtensorflow_io_plugins.so: unable to open file: libtensorflow_io_plugins.so, from paths: ['/opt/conda/lib/python3.10/site-packages/tensorflow_io/python/ops/libtensorflow_io_plugins.so']\n",
      "caused by: ['/opt/conda/lib/python3.10/site-packages/tensorflow_io/python/ops/libtensorflow_io_plugins.so: undefined symbol: _ZN3tsl6StatusC1EN10tensorflow5error4CodeESt17basic_string_viewIcSt11char_traitsIcEENS_14SourceLocationE']\n",
      "  warnings.warn(f\"unable to load libtensorflow_io_plugins.so: {e}\")\n",
      "/opt/conda/lib/python3.10/site-packages/tensorflow_io/python/ops/__init__.py:104: UserWarning: file system plugins are not loaded: unable to open file: libtensorflow_io.so, from paths: ['/opt/conda/lib/python3.10/site-packages/tensorflow_io/python/ops/libtensorflow_io.so']\n",
      "caused by: ['/opt/conda/lib/python3.10/site-packages/tensorflow_io/python/ops/libtensorflow_io.so: undefined symbol: _ZTVN10tensorflow13GcsFileSystemE']\n",
      "  warnings.warn(f\"file system plugins are not loaded: {e}\")\n"
     ]
    }
   ],
   "source": [
    "import numpy as np\n",
    "import matplotlib.pyplot as plt\n",
    "import pandas as pd\n",
    "import math\n",
    "\n",
    "from keras.models import Sequential\n",
    "from keras.layers import Dense\n",
    "from keras.layers import LSTM, Flatten\n",
    "from sklearn.preprocessing import MinMaxScaler\n",
    "from sklearn.metrics import mean_squared_error\n",
    "#from keras.callbacks import EarlyStopping\n",
    "from keras.layers import ConvLSTM2D"
   ]
  },
  {
   "cell_type": "code",
   "execution_count": 3,
   "id": "01f25292",
   "metadata": {
    "execution": {
     "iopub.execute_input": "2023-05-24T15:48:07.196602Z",
     "iopub.status.busy": "2023-05-24T15:48:07.195810Z",
     "iopub.status.idle": "2023-05-24T15:48:07.224685Z",
     "shell.execute_reply": "2023-05-24T15:48:07.222876Z"
    },
    "papermill": {
     "duration": 0.041794,
     "end_time": "2023-05-24T15:48:07.227682",
     "exception": false,
     "start_time": "2023-05-24T15:48:07.185888",
     "status": "completed"
    },
    "tags": []
   },
   "outputs": [],
   "source": [
    "# load the dataset\n",
    "dataframe = pd.read_csv('/kaggle/input/air-passengers/AirPassengers.csv', usecols=[1])\n",
    "# dataframe = pd.read_csv('/kaggle/input/air-passengers/AirPassengers.csv', index_col='Month')"
   ]
  },
  {
   "cell_type": "code",
   "execution_count": 4,
   "id": "6fd6da27",
   "metadata": {
    "execution": {
     "iopub.execute_input": "2023-05-24T15:48:07.247649Z",
     "iopub.status.busy": "2023-05-24T15:48:07.246691Z",
     "iopub.status.idle": "2023-05-24T15:48:07.252988Z",
     "shell.execute_reply": "2023-05-24T15:48:07.251111Z"
    },
    "papermill": {
     "duration": 0.02116,
     "end_time": "2023-05-24T15:48:07.257128",
     "exception": false,
     "start_time": "2023-05-24T15:48:07.235968",
     "status": "completed"
    },
    "tags": []
   },
   "outputs": [],
   "source": [
    "# dataframe.index=dataframe['Month']"
   ]
  },
  {
   "cell_type": "code",
   "execution_count": 5,
   "id": "a7597aa4",
   "metadata": {
    "execution": {
     "iopub.execute_input": "2023-05-24T15:48:07.280154Z",
     "iopub.status.busy": "2023-05-24T15:48:07.278576Z",
     "iopub.status.idle": "2023-05-24T15:48:07.315600Z",
     "shell.execute_reply": "2023-05-24T15:48:07.314113Z"
    },
    "papermill": {
     "duration": 0.051737,
     "end_time": "2023-05-24T15:48:07.318871",
     "exception": false,
     "start_time": "2023-05-24T15:48:07.267134",
     "status": "completed"
    },
    "tags": []
   },
   "outputs": [
    {
     "data": {
      "text/html": [
       "<div>\n",
       "<style scoped>\n",
       "    .dataframe tbody tr th:only-of-type {\n",
       "        vertical-align: middle;\n",
       "    }\n",
       "\n",
       "    .dataframe tbody tr th {\n",
       "        vertical-align: top;\n",
       "    }\n",
       "\n",
       "    .dataframe thead th {\n",
       "        text-align: right;\n",
       "    }\n",
       "</style>\n",
       "<table border=\"1\" class=\"dataframe\">\n",
       "  <thead>\n",
       "    <tr style=\"text-align: right;\">\n",
       "      <th></th>\n",
       "      <th>#Passengers</th>\n",
       "    </tr>\n",
       "  </thead>\n",
       "  <tbody>\n",
       "    <tr>\n",
       "      <th>0</th>\n",
       "      <td>112</td>\n",
       "    </tr>\n",
       "    <tr>\n",
       "      <th>1</th>\n",
       "      <td>118</td>\n",
       "    </tr>\n",
       "    <tr>\n",
       "      <th>2</th>\n",
       "      <td>132</td>\n",
       "    </tr>\n",
       "    <tr>\n",
       "      <th>3</th>\n",
       "      <td>129</td>\n",
       "    </tr>\n",
       "    <tr>\n",
       "      <th>4</th>\n",
       "      <td>121</td>\n",
       "    </tr>\n",
       "    <tr>\n",
       "      <th>...</th>\n",
       "      <td>...</td>\n",
       "    </tr>\n",
       "    <tr>\n",
       "      <th>139</th>\n",
       "      <td>606</td>\n",
       "    </tr>\n",
       "    <tr>\n",
       "      <th>140</th>\n",
       "      <td>508</td>\n",
       "    </tr>\n",
       "    <tr>\n",
       "      <th>141</th>\n",
       "      <td>461</td>\n",
       "    </tr>\n",
       "    <tr>\n",
       "      <th>142</th>\n",
       "      <td>390</td>\n",
       "    </tr>\n",
       "    <tr>\n",
       "      <th>143</th>\n",
       "      <td>432</td>\n",
       "    </tr>\n",
       "  </tbody>\n",
       "</table>\n",
       "<p>144 rows × 1 columns</p>\n",
       "</div>"
      ],
      "text/plain": [
       "     #Passengers\n",
       "0            112\n",
       "1            118\n",
       "2            132\n",
       "3            129\n",
       "4            121\n",
       "..           ...\n",
       "139          606\n",
       "140          508\n",
       "141          461\n",
       "142          390\n",
       "143          432\n",
       "\n",
       "[144 rows x 1 columns]"
      ]
     },
     "execution_count": 5,
     "metadata": {},
     "output_type": "execute_result"
    }
   ],
   "source": [
    "dataframe"
   ]
  },
  {
   "cell_type": "code",
   "execution_count": 6,
   "id": "a18943f0",
   "metadata": {
    "execution": {
     "iopub.execute_input": "2023-05-24T15:48:07.339646Z",
     "iopub.status.busy": "2023-05-24T15:48:07.338059Z",
     "iopub.status.idle": "2023-05-24T15:48:07.345872Z",
     "shell.execute_reply": "2023-05-24T15:48:07.344714Z"
    },
    "papermill": {
     "duration": 0.020302,
     "end_time": "2023-05-24T15:48:07.348135",
     "exception": false,
     "start_time": "2023-05-24T15:48:07.327833",
     "status": "completed"
    },
    "tags": []
   },
   "outputs": [
    {
     "data": {
      "text/plain": [
       "(144, 1)"
      ]
     },
     "execution_count": 6,
     "metadata": {},
     "output_type": "execute_result"
    }
   ],
   "source": [
    "dataframe.shape"
   ]
  },
  {
   "cell_type": "code",
   "execution_count": 7,
   "id": "3a3269dd",
   "metadata": {
    "execution": {
     "iopub.execute_input": "2023-05-24T15:48:07.368424Z",
     "iopub.status.busy": "2023-05-24T15:48:07.367169Z",
     "iopub.status.idle": "2023-05-24T15:48:07.390991Z",
     "shell.execute_reply": "2023-05-24T15:48:07.389755Z"
    },
    "papermill": {
     "duration": 0.036559,
     "end_time": "2023-05-24T15:48:07.393453",
     "exception": false,
     "start_time": "2023-05-24T15:48:07.356894",
     "status": "completed"
    },
    "tags": []
   },
   "outputs": [
    {
     "data": {
      "text/html": [
       "<div>\n",
       "<style scoped>\n",
       "    .dataframe tbody tr th:only-of-type {\n",
       "        vertical-align: middle;\n",
       "    }\n",
       "\n",
       "    .dataframe tbody tr th {\n",
       "        vertical-align: top;\n",
       "    }\n",
       "\n",
       "    .dataframe thead th {\n",
       "        text-align: right;\n",
       "    }\n",
       "</style>\n",
       "<table border=\"1\" class=\"dataframe\">\n",
       "  <thead>\n",
       "    <tr style=\"text-align: right;\">\n",
       "      <th></th>\n",
       "      <th>#Passengers</th>\n",
       "    </tr>\n",
       "  </thead>\n",
       "  <tbody>\n",
       "    <tr>\n",
       "      <th>count</th>\n",
       "      <td>144.000000</td>\n",
       "    </tr>\n",
       "    <tr>\n",
       "      <th>mean</th>\n",
       "      <td>280.298611</td>\n",
       "    </tr>\n",
       "    <tr>\n",
       "      <th>std</th>\n",
       "      <td>119.966317</td>\n",
       "    </tr>\n",
       "    <tr>\n",
       "      <th>min</th>\n",
       "      <td>104.000000</td>\n",
       "    </tr>\n",
       "    <tr>\n",
       "      <th>25%</th>\n",
       "      <td>180.000000</td>\n",
       "    </tr>\n",
       "    <tr>\n",
       "      <th>50%</th>\n",
       "      <td>265.500000</td>\n",
       "    </tr>\n",
       "    <tr>\n",
       "      <th>75%</th>\n",
       "      <td>360.500000</td>\n",
       "    </tr>\n",
       "    <tr>\n",
       "      <th>max</th>\n",
       "      <td>622.000000</td>\n",
       "    </tr>\n",
       "  </tbody>\n",
       "</table>\n",
       "</div>"
      ],
      "text/plain": [
       "       #Passengers\n",
       "count   144.000000\n",
       "mean    280.298611\n",
       "std     119.966317\n",
       "min     104.000000\n",
       "25%     180.000000\n",
       "50%     265.500000\n",
       "75%     360.500000\n",
       "max     622.000000"
      ]
     },
     "execution_count": 7,
     "metadata": {},
     "output_type": "execute_result"
    }
   ],
   "source": [
    "dataframe.describe()"
   ]
  },
  {
   "cell_type": "code",
   "execution_count": 8,
   "id": "a543ddb9",
   "metadata": {
    "execution": {
     "iopub.execute_input": "2023-05-24T15:48:07.414151Z",
     "iopub.status.busy": "2023-05-24T15:48:07.413640Z",
     "iopub.status.idle": "2023-05-24T15:48:07.441452Z",
     "shell.execute_reply": "2023-05-24T15:48:07.440315Z"
    },
    "papermill": {
     "duration": 0.041351,
     "end_time": "2023-05-24T15:48:07.444166",
     "exception": false,
     "start_time": "2023-05-24T15:48:07.402815",
     "status": "completed"
    },
    "tags": []
   },
   "outputs": [
    {
     "name": "stdout",
     "output_type": "stream",
     "text": [
      "<class 'pandas.core.frame.DataFrame'>\n",
      "RangeIndex: 144 entries, 0 to 143\n",
      "Data columns (total 1 columns):\n",
      " #   Column       Non-Null Count  Dtype\n",
      "---  ------       --------------  -----\n",
      " 0   #Passengers  144 non-null    int64\n",
      "dtypes: int64(1)\n",
      "memory usage: 1.2 KB\n"
     ]
    }
   ],
   "source": [
    "dataframe.info()"
   ]
  },
  {
   "cell_type": "code",
   "execution_count": 9,
   "id": "43b5d18f",
   "metadata": {
    "execution": {
     "iopub.execute_input": "2023-05-24T15:48:07.464477Z",
     "iopub.status.busy": "2023-05-24T15:48:07.463855Z",
     "iopub.status.idle": "2023-05-24T15:48:07.785838Z",
     "shell.execute_reply": "2023-05-24T15:48:07.784132Z"
    },
    "papermill": {
     "duration": 0.335435,
     "end_time": "2023-05-24T15:48:07.788598",
     "exception": false,
     "start_time": "2023-05-24T15:48:07.453163",
     "status": "completed"
    },
    "tags": []
   },
   "outputs": [
    {
     "data": {
      "text/plain": [
       "[<matplotlib.lines.Line2D at 0x7d4ece815f90>]"
      ]
     },
     "execution_count": 9,
     "metadata": {},
     "output_type": "execute_result"
    },
    {
     "data": {
      "image/png": "[encoded data removed]",
      "text/plain": [
       "<Figure size 640x480 with 1 Axes>"
      ]
     },
     "metadata": {},
     "output_type": "display_data"
    }
   ],
   "source": [
    "plt.plot(dataframe)"
   ]
  },
  {
   "cell_type": "code",
   "execution_count": 10,
   "id": "82a26260",
   "metadata": {
    "execution": {
     "iopub.execute_input": "2023-05-24T15:48:07.810786Z",
     "iopub.status.busy": "2023-05-24T15:48:07.810266Z",
     "iopub.status.idle": "2023-05-24T15:48:07.817155Z",
     "shell.execute_reply": "2023-05-24T15:48:07.815586Z"
    },
    "papermill": {
     "duration": 0.021466,
     "end_time": "2023-05-24T15:48:07.819956",
     "exception": false,
     "start_time": "2023-05-24T15:48:07.798490",
     "status": "completed"
    },
    "tags": []
   },
   "outputs": [],
   "source": [
    "#Convert pandas dataframe to numpy array\n",
    "dataset = dataframe.values\n",
    "dataset = dataset.astype('float32') #COnvert values to float"
   ]
  },
  {
   "cell_type": "code",
   "execution_count": 11,
   "id": "c60f6d8b",
   "metadata": {
    "execution": {
     "iopub.execute_input": "2023-05-24T15:48:07.844225Z",
     "iopub.status.busy": "2023-05-24T15:48:07.843801Z",
     "iopub.status.idle": "2023-05-24T15:48:07.856436Z",
     "shell.execute_reply": "2023-05-24T15:48:07.855285Z"
    },
    "papermill": {
     "duration": 0.02865,
     "end_time": "2023-05-24T15:48:07.859458",
     "exception": false,
     "start_time": "2023-05-24T15:48:07.830808",
     "status": "completed"
    },
    "tags": []
   },
   "outputs": [
    {
     "data": {
      "text/plain": [
       "array([[112.],\n",
       "       [118.],\n",
       "       [132.],\n",
       "       [129.],\n",
       "       [121.],\n",
       "       [135.],\n",
       "       [148.],\n",
       "       [148.],\n",
       "       [136.],\n",
       "       [119.],\n",
       "       [104.],\n",
       "       [118.],\n",
       "       [115.],\n",
       "       [126.],\n",
       "       [141.],\n",
       "       [135.],\n",
       "       [125.],\n",
       "       [149.],\n",
       "       [170.],\n",
       "       [170.],\n",
       "       [158.],\n",
       "       [133.],\n",
       "       [114.],\n",
       "       [140.],\n",
       "       [145.],\n",
       "       [150.],\n",
       "       [178.],\n",
       "       [163.],\n",
       "       [172.],\n",
       "       [178.],\n",
       "       [199.],\n",
       "       [199.],\n",
       "       [184.],\n",
       "       [162.],\n",
       "       [146.],\n",
       "       [166.],\n",
       "       [171.],\n",
       "       [180.],\n",
       "       [193.],\n",
       "       [181.],\n",
       "       [183.],\n",
       "       [218.],\n",
       "       [230.],\n",
       "       [242.],\n",
       "       [209.],\n",
       "       [191.],\n",
       "       [172.],\n",
       "       [194.],\n",
       "       [196.],\n",
       "       [196.],\n",
       "       [236.],\n",
       "       [235.],\n",
       "       [229.],\n",
       "       [243.],\n",
       "       [264.],\n",
       "       [272.],\n",
       "       [237.],\n",
       "       [211.],\n",
       "       [180.],\n",
       "       [201.],\n",
       "       [204.],\n",
       "       [188.],\n",
       "       [235.],\n",
       "       [227.],\n",
       "       [234.],\n",
       "       [264.],\n",
       "       [302.],\n",
       "       [293.],\n",
       "       [259.],\n",
       "       [229.],\n",
       "       [203.],\n",
       "       [229.],\n",
       "       [242.],\n",
       "       [233.],\n",
       "       [267.],\n",
       "       [269.],\n",
       "       [270.],\n",
       "       [315.],\n",
       "       [364.],\n",
       "       [347.],\n",
       "       [312.],\n",
       "       [274.],\n",
       "       [237.],\n",
       "       [278.],\n",
       "       [284.],\n",
       "       [277.],\n",
       "       [317.],\n",
       "       [313.],\n",
       "       [318.],\n",
       "       [374.],\n",
       "       [413.],\n",
       "       [405.],\n",
       "       [355.],\n",
       "       [306.],\n",
       "       [271.],\n",
       "       [306.],\n",
       "       [315.],\n",
       "       [301.],\n",
       "       [356.],\n",
       "       [348.],\n",
       "       [355.],\n",
       "       [422.],\n",
       "       [465.],\n",
       "       [467.],\n",
       "       [404.],\n",
       "       [347.],\n",
       "       [305.],\n",
       "       [336.],\n",
       "       [340.],\n",
       "       [318.],\n",
       "       [362.],\n",
       "       [348.],\n",
       "       [363.],\n",
       "       [435.],\n",
       "       [491.],\n",
       "       [505.],\n",
       "       [404.],\n",
       "       [359.],\n",
       "       [310.],\n",
       "       [337.],\n",
       "       [360.],\n",
       "       [342.],\n",
       "       [406.],\n",
       "       [396.],\n",
       "       [420.],\n",
       "       [472.],\n",
       "       [548.],\n",
       "       [559.],\n",
       "       [463.],\n",
       "       [407.],\n",
       "       [362.],\n",
       "       [405.],\n",
       "       [417.],\n",
       "       [391.],\n",
       "       [419.],\n",
       "       [461.],\n",
       "       [472.],\n",
       "       [535.],\n",
       "       [622.],\n",
       "       [606.],\n",
       "       [508.],\n",
       "       [461.],\n",
       "       [390.],\n",
       "       [432.]], dtype=float32)"
      ]
     },
     "execution_count": 11,
     "metadata": {},
     "output_type": "execute_result"
    }
   ],
   "source": [
    "dataset"
   ]
  },
  {
   "cell_type": "code",
   "execution_count": 12,
   "id": "85975da6",
   "metadata": {
    "execution": {
     "iopub.execute_input": "2023-05-24T15:48:07.883135Z",
     "iopub.status.busy": "2023-05-24T15:48:07.882568Z",
     "iopub.status.idle": "2023-05-24T15:48:07.890110Z",
     "shell.execute_reply": "2023-05-24T15:48:07.888714Z"
    },
    "papermill": {
     "duration": 0.022432,
     "end_time": "2023-05-24T15:48:07.892433",
     "exception": false,
     "start_time": "2023-05-24T15:48:07.870001",
     "status": "completed"
    },
    "tags": []
   },
   "outputs": [],
   "source": [
    "#LSTM uses sigmoid and tanh that are sensitive to magnitude so values need to be normalized\n",
    "# normalize the dataset\n",
    "scaler = MinMaxScaler(feature_range=(0, 1)) #Also try QuantileTransformer\n",
    "dataset = scaler.fit_transform(dataset)"
   ]
  },
  {
   "cell_type": "code",
   "execution_count": 13,
   "id": "d6673bba",
   "metadata": {
    "execution": {
     "iopub.execute_input": "2023-05-24T15:48:07.914857Z",
     "iopub.status.busy": "2023-05-24T15:48:07.914420Z",
     "iopub.status.idle": "2023-05-24T15:48:07.923314Z",
     "shell.execute_reply": "2023-05-24T15:48:07.921922Z"
    },
    "papermill": {
     "duration": 0.023348,
     "end_time": "2023-05-24T15:48:07.926232",
     "exception": false,
     "start_time": "2023-05-24T15:48:07.902884",
     "status": "completed"
    },
    "tags": []
   },
   "outputs": [
    {
     "data": {
      "text/plain": [
       "array([[0.01544401],\n",
       "       [0.02702703]], dtype=float32)"
      ]
     },
     "execution_count": 13,
     "metadata": {},
     "output_type": "execute_result"
    }
   ],
   "source": [
    "dataset[0:2,:]"
   ]
  },
  {
   "cell_type": "code",
   "execution_count": 14,
   "id": "f19c8acc",
   "metadata": {
    "execution": {
     "iopub.execute_input": "2023-05-24T15:48:07.952126Z",
     "iopub.status.busy": "2023-05-24T15:48:07.951724Z",
     "iopub.status.idle": "2023-05-24T15:48:07.958611Z",
     "shell.execute_reply": "2023-05-24T15:48:07.957079Z"
    },
    "papermill": {
     "duration": 0.02287,
     "end_time": "2023-05-24T15:48:07.961551",
     "exception": false,
     "start_time": "2023-05-24T15:48:07.938681",
     "status": "completed"
    },
    "tags": []
   },
   "outputs": [],
   "source": [
    "#We cannot use random way of splitting dataset into train and test as\n",
    "#the sequence of events is important for time series.\n",
    "#So let us take first 60% values for train and the remaining 1/3 for testing\n",
    "# split into train and test sets\n",
    "train_size = int(len(dataset) * 0.66)\n",
    "test_size = len(dataset) - train_size\n",
    "train, test = dataset[0:train_size,:], dataset[train_size:len(dataset),:]"
   ]
  },
  {
   "cell_type": "code",
   "execution_count": 15,
   "id": "2736d278",
   "metadata": {
    "execution": {
     "iopub.execute_input": "2023-05-24T15:48:07.988256Z",
     "iopub.status.busy": "2023-05-24T15:48:07.987799Z",
     "iopub.status.idle": "2023-05-24T15:48:07.997155Z",
     "shell.execute_reply": "2023-05-24T15:48:07.995704Z"
    },
    "papermill": {
     "duration": 0.027708,
     "end_time": "2023-05-24T15:48:08.000610",
     "exception": false,
     "start_time": "2023-05-24T15:48:07.972902",
     "status": "completed"
    },
    "tags": []
   },
   "outputs": [],
   "source": [
    "# We cannot fit the model like we normally do for image processing where we have\n",
    "#X and Y. We need to transform our data into something that looks like X and Y values.\n",
    "# This way it can be trained on a sequence rather than indvidual datapoints. \n",
    "# Let us convert into n number of columns for X where we feed sequence of numbers\n",
    "#then the final column as Y where we provide the next number in the sequence as output.\n",
    "# So let us convert an array of values into a dataset matrix\n",
    "\n",
    "#seq_size is the number of previous time steps to use as \n",
    "#input variables to predict the next time period.\n",
    "\n",
    "#creates a dataset where X is the number of passengers at a given time (t, t-1, t-2...) \n",
    "#and Y is the number of passengers at the next time (t + 1).\n",
    "\n",
    "def to_sequences(dataset, seq_size=1):\n",
    "    x = []\n",
    "    y = []\n",
    "\n",
    "    for i in range(len(dataset)-seq_size-1):\n",
    "        #print(i)\n",
    "        window = dataset[i:(i+seq_size), 0]\n",
    "        x.append(window)\n",
    "        y.append(dataset[i+seq_size, 0])\n",
    "        \n",
    "    return np.array(x),np.array(y)"
   ]
  },
  {
   "cell_type": "code",
   "execution_count": 16,
   "id": "9a8a1ba4",
   "metadata": {
    "execution": {
     "iopub.execute_input": "2023-05-24T15:48:08.030187Z",
     "iopub.status.busy": "2023-05-24T15:48:08.029759Z",
     "iopub.status.idle": "2023-05-24T15:48:08.037294Z",
     "shell.execute_reply": "2023-05-24T15:48:08.035736Z"
    },
    "papermill": {
     "duration": 0.025287,
     "end_time": "2023-05-24T15:48:08.040956",
     "exception": false,
     "start_time": "2023-05-24T15:48:08.015669",
     "status": "completed"
    },
    "tags": []
   },
   "outputs": [],
   "source": [
    "seq_size = 10  # Number of time steps to look back \n",
    "#Larger sequences (look further back) may improve forecasting.\n",
    "\n",
    "trainX, trainY = to_sequences(train, seq_size)\n",
    "testX, testY = to_sequences(test, seq_size)"
   ]
  },
  {
   "cell_type": "code",
   "execution_count": 17,
   "id": "cd45fb2b",
   "metadata": {
    "execution": {
     "iopub.execute_input": "2023-05-24T15:48:08.067104Z",
     "iopub.status.busy": "2023-05-24T15:48:08.066694Z",
     "iopub.status.idle": "2023-05-24T15:48:08.074244Z",
     "shell.execute_reply": "2023-05-24T15:48:08.072638Z"
    },
    "papermill": {
     "duration": 0.024422,
     "end_time": "2023-05-24T15:48:08.077392",
     "exception": false,
     "start_time": "2023-05-24T15:48:08.052970",
     "status": "completed"
    },
    "tags": []
   },
   "outputs": [
    {
     "name": "stdout",
     "output_type": "stream",
     "text": [
      "Shape of training set:(84, 10)\n",
      "Shape of test set: (38, 10)\n"
     ]
    }
   ],
   "source": [
    "print(f\"Shape of training set:{trainX.shape}\")\n",
    "print(\"Shape of test set: {}\".format(testX.shape))"
   ]
  },
  {
   "cell_type": "code",
   "execution_count": 18,
   "id": "692a353b",
   "metadata": {
    "execution": {
     "iopub.execute_input": "2023-05-24T15:48:08.101178Z",
     "iopub.status.busy": "2023-05-24T15:48:08.100696Z",
     "iopub.status.idle": "2023-05-24T15:48:08.582669Z",
     "shell.execute_reply": "2023-05-24T15:48:08.581212Z"
    },
    "papermill": {
     "duration": 0.499082,
     "end_time": "2023-05-24T15:48:08.587277",
     "exception": false,
     "start_time": "2023-05-24T15:48:08.088195",
     "status": "completed"
    },
    "tags": []
   },
   "outputs": [
    {
     "name": "stdout",
     "output_type": "stream",
     "text": [
      "Model: \"sequential\"\n",
      "_________________________________________________________________\n",
      " Layer (type)                Output Shape              Param #   \n",
      "=================================================================\n",
      " conv_lstm2d (ConvLSTM2D)    (None, 1, 1, 64)          19200     \n",
      "                                                                 \n",
      " flatten (Flatten)           (None, 64)                0         \n",
      "                                                                 \n",
      " dense (Dense)               (None, 32)                2080      \n",
      "                                                                 \n",
      " dense_1 (Dense)             (None, 1)                 33        \n",
      "                                                                 \n",
      "=================================================================\n",
      "Total params: 21,313\n",
      "Trainable params: 21,313\n",
      "Non-trainable params: 0\n",
      "_________________________________________________________________\n"
     ]
    }
   ],
   "source": [
    "######################################################\n",
    "# Reshape input to be [samples, time steps, features]\n",
    "#trainX = np.reshape(trainX, (trainX.shape[0], 1, trainX.shape[1]))\n",
    "#testX = np.reshape(testX, (testX.shape[0], 1, testX.shape[1]))\n",
    "#\n",
    "#print('Single LSTM with hidden Dense...')\n",
    "#model = Sequential()\n",
    "#model.add(LSTM(64, input_shape=(None, seq_size)))\n",
    "#model.add(Dense(32))\n",
    "#model.add(Dense(1))\n",
    "#model.compile(loss='mean_squared_error', optimizer='adam')\n",
    "##monitor = EarlyStopping(monitor='val_loss', min_delta=1e-3, patience=20, \n",
    "##                        verbose=1, mode='auto', restore_best_weights=True)\n",
    "#model.summary()\n",
    "#print('Train...')\n",
    "#########################################\n",
    "\n",
    "#Stacked LSTM with 1 hidden dense layer\n",
    "# reshape input to be [samples, time steps, features]\n",
    "#trainX = np.reshape(trainX, (trainX.shape[0], 1, trainX.shape[1]))\n",
    "#testX = np.reshape(testX, (testX.shape[0], 1, testX.shape[1]))\n",
    "#\n",
    "#model = Sequential()\n",
    "#model.add(LSTM(50, activation='relu', return_sequences=True, input_shape=(None, seq_size)))\n",
    "#model.add(LSTM(50, activation='relu'))\n",
    "#model.add(Dense(32))\n",
    "#model.add(Dense(1))\n",
    "#model.compile(optimizer='adam', loss='mean_squared_error')\n",
    "#\n",
    "#model.summary()\n",
    "#print('Train...')\n",
    "###############################################\n",
    "\n",
    "#Bidirectional LSTM\n",
    "# reshape input to be [samples, time steps, features]\n",
    "#trainX = np.reshape(trainX, (trainX.shape[0], 1, trainX.shape[1]))\n",
    "#testX = np.reshape(testX, (testX.shape[0], 1, testX.shape[1]))\n",
    "#\n",
    "##For some sequence forecasting problems we may need LSTM to learn\n",
    "## sequence in both forward and backward directions\n",
    "#from keras.layers import Bidirectional\n",
    "#model = Sequential()\n",
    "#model.add(Bidirectional(LSTM(50, activation='relu'), input_shape=(None, seq_size)))\n",
    "#model.add(Dense(1))\n",
    "#model.compile(optimizer='adam', loss='mean_squared_error')\n",
    "#model.summary()\n",
    "#print('Train...')\n",
    "\n",
    "#########################################################\n",
    "#ConvLSTM\n",
    "#The layer expects input as a sequence of two-dimensional images, \n",
    "#therefore the shape of input data must be: [samples, timesteps, rows, columns, features]\n",
    "\n",
    "trainX = trainX.reshape((trainX.shape[0], 1, 1, 1, seq_size))\n",
    "testX = testX.reshape((testX.shape[0], 1, 1, 1, seq_size))\n",
    "\n",
    "model = Sequential()\n",
    "model.add(ConvLSTM2D(filters=64, kernel_size=(1,1), activation='relu', input_shape=(1, 1, 1, seq_size)))\n",
    "model.add(Flatten())\n",
    "model.add(Dense(32))\n",
    "model.add(Dense(1))\n",
    "model.compile(optimizer='adam', loss='mean_squared_error')\n",
    "model.summary()\n",
    "#print('Train...')\n",
    "\n",
    "\n",
    "\n",
    "###############################################"
   ]
  },
  {
   "cell_type": "code",
   "execution_count": 19,
   "id": "ba42ed84",
   "metadata": {
    "execution": {
     "iopub.execute_input": "2023-05-24T15:48:08.614765Z",
     "iopub.status.busy": "2023-05-24T15:48:08.614258Z",
     "iopub.status.idle": "2023-05-24T15:48:18.645075Z",
     "shell.execute_reply": "2023-05-24T15:48:18.643514Z"
    },
    "papermill": {
     "duration": 10.048577,
     "end_time": "2023-05-24T15:48:18.648290",
     "exception": false,
     "start_time": "2023-05-24T15:48:08.599713",
     "status": "completed"
    },
    "tags": []
   },
   "outputs": [
    {
     "name": "stdout",
     "output_type": "stream",
     "text": [
      "Epoch 1/100\n",
      "3/3 - 4s - loss: 0.0749 - val_loss: 0.3844 - 4s/epoch - 1s/step\n",
      "Epoch 2/100\n",
      "3/3 - 0s - loss: 0.0566 - val_loss: 0.3120 - 51ms/epoch - 17ms/step\n",
      "Epoch 3/100\n",
      "3/3 - 0s - loss: 0.0417 - val_loss: 0.2478 - 56ms/epoch - 19ms/step\n",
      "Epoch 4/100\n",
      "3/3 - 0s - loss: 0.0296 - val_loss: 0.1904 - 46ms/epoch - 15ms/step\n",
      "Epoch 5/100\n",
      "3/3 - 0s - loss: 0.0202 - val_loss: 0.1398 - 47ms/epoch - 16ms/step\n",
      "Epoch 6/100\n",
      "3/3 - 0s - loss: 0.0143 - val_loss: 0.0963 - 54ms/epoch - 18ms/step\n",
      "Epoch 7/100\n",
      "3/3 - 0s - loss: 0.0112 - val_loss: 0.0638 - 52ms/epoch - 17ms/step\n",
      "Epoch 8/100\n",
      "3/3 - 0s - loss: 0.0107 - val_loss: 0.0448 - 56ms/epoch - 19ms/step\n",
      "Epoch 9/100\n",
      "3/3 - 0s - loss: 0.0116 - val_loss: 0.0365 - 50ms/epoch - 17ms/step\n",
      "Epoch 10/100\n",
      "3/3 - 0s - loss: 0.0121 - val_loss: 0.0350 - 49ms/epoch - 16ms/step\n",
      "Epoch 11/100\n",
      "3/3 - 0s - loss: 0.0115 - val_loss: 0.0373 - 54ms/epoch - 18ms/step\n",
      "Epoch 12/100\n",
      "3/3 - 0s - loss: 0.0104 - val_loss: 0.0420 - 49ms/epoch - 16ms/step\n",
      "Epoch 13/100\n",
      "3/3 - 0s - loss: 0.0095 - val_loss: 0.0474 - 54ms/epoch - 18ms/step\n",
      "Epoch 14/100\n",
      "3/3 - 0s - loss: 0.0089 - val_loss: 0.0514 - 53ms/epoch - 18ms/step\n",
      "Epoch 15/100\n",
      "3/3 - 0s - loss: 0.0086 - val_loss: 0.0527 - 51ms/epoch - 17ms/step\n",
      "Epoch 16/100\n",
      "3/3 - 0s - loss: 0.0083 - val_loss: 0.0505 - 51ms/epoch - 17ms/step\n",
      "Epoch 17/100\n",
      "3/3 - 0s - loss: 0.0080 - val_loss: 0.0460 - 71ms/epoch - 24ms/step\n",
      "Epoch 18/100\n",
      "3/3 - 0s - loss: 0.0076 - val_loss: 0.0399 - 59ms/epoch - 20ms/step\n",
      "Epoch 19/100\n",
      "3/3 - 0s - loss: 0.0072 - val_loss: 0.0340 - 67ms/epoch - 22ms/step\n",
      "Epoch 20/100\n",
      "3/3 - 0s - loss: 0.0069 - val_loss: 0.0292 - 52ms/epoch - 17ms/step\n",
      "Epoch 21/100\n",
      "3/3 - 0s - loss: 0.0065 - val_loss: 0.0267 - 55ms/epoch - 18ms/step\n",
      "Epoch 22/100\n",
      "3/3 - 0s - loss: 0.0063 - val_loss: 0.0250 - 56ms/epoch - 19ms/step\n",
      "Epoch 23/100\n",
      "3/3 - 0s - loss: 0.0060 - val_loss: 0.0242 - 54ms/epoch - 18ms/step\n",
      "Epoch 24/100\n",
      "3/3 - 0s - loss: 0.0057 - val_loss: 0.0238 - 53ms/epoch - 18ms/step\n",
      "Epoch 25/100\n",
      "3/3 - 0s - loss: 0.0054 - val_loss: 0.0232 - 46ms/epoch - 15ms/step\n",
      "Epoch 26/100\n",
      "3/3 - 0s - loss: 0.0052 - val_loss: 0.0227 - 56ms/epoch - 19ms/step\n",
      "Epoch 27/100\n",
      "3/3 - 0s - loss: 0.0050 - val_loss: 0.0223 - 58ms/epoch - 19ms/step\n",
      "Epoch 28/100\n",
      "3/3 - 0s - loss: 0.0049 - val_loss: 0.0220 - 53ms/epoch - 18ms/step\n",
      "Epoch 29/100\n",
      "3/3 - 0s - loss: 0.0047 - val_loss: 0.0220 - 58ms/epoch - 19ms/step\n",
      "Epoch 30/100\n",
      "3/3 - 0s - loss: 0.0045 - val_loss: 0.0227 - 48ms/epoch - 16ms/step\n",
      "Epoch 31/100\n",
      "3/3 - 0s - loss: 0.0045 - val_loss: 0.0242 - 68ms/epoch - 23ms/step\n",
      "Epoch 32/100\n",
      "3/3 - 0s - loss: 0.0043 - val_loss: 0.0244 - 55ms/epoch - 18ms/step\n",
      "Epoch 33/100\n",
      "3/3 - 0s - loss: 0.0042 - val_loss: 0.0243 - 56ms/epoch - 19ms/step\n",
      "Epoch 34/100\n",
      "3/3 - 0s - loss: 0.0041 - val_loss: 0.0242 - 69ms/epoch - 23ms/step\n",
      "Epoch 35/100\n",
      "3/3 - 0s - loss: 0.0040 - val_loss: 0.0246 - 69ms/epoch - 23ms/step\n",
      "Epoch 36/100\n",
      "3/3 - 0s - loss: 0.0040 - val_loss: 0.0247 - 53ms/epoch - 18ms/step\n",
      "Epoch 37/100\n",
      "3/3 - 0s - loss: 0.0039 - val_loss: 0.0265 - 55ms/epoch - 18ms/step\n",
      "Epoch 38/100\n",
      "3/3 - 0s - loss: 0.0039 - val_loss: 0.0263 - 44ms/epoch - 15ms/step\n",
      "Epoch 39/100\n",
      "3/3 - 0s - loss: 0.0038 - val_loss: 0.0252 - 52ms/epoch - 17ms/step\n",
      "Epoch 40/100\n",
      "3/3 - 0s - loss: 0.0037 - val_loss: 0.0246 - 54ms/epoch - 18ms/step\n",
      "Epoch 41/100\n",
      "3/3 - 0s - loss: 0.0037 - val_loss: 0.0251 - 45ms/epoch - 15ms/step\n",
      "Epoch 42/100\n",
      "3/3 - 0s - loss: 0.0036 - val_loss: 0.0254 - 46ms/epoch - 15ms/step\n",
      "Epoch 43/100\n",
      "3/3 - 0s - loss: 0.0036 - val_loss: 0.0260 - 43ms/epoch - 14ms/step\n",
      "Epoch 44/100\n",
      "3/3 - 0s - loss: 0.0035 - val_loss: 0.0258 - 53ms/epoch - 18ms/step\n",
      "Epoch 45/100\n",
      "3/3 - 0s - loss: 0.0034 - val_loss: 0.0243 - 44ms/epoch - 15ms/step\n",
      "Epoch 46/100\n",
      "3/3 - 0s - loss: 0.0034 - val_loss: 0.0229 - 54ms/epoch - 18ms/step\n",
      "Epoch 47/100\n",
      "3/3 - 0s - loss: 0.0033 - val_loss: 0.0229 - 46ms/epoch - 15ms/step\n",
      "Epoch 48/100\n",
      "3/3 - 0s - loss: 0.0033 - val_loss: 0.0239 - 54ms/epoch - 18ms/step\n",
      "Epoch 49/100\n",
      "3/3 - 0s - loss: 0.0032 - val_loss: 0.0244 - 56ms/epoch - 19ms/step\n",
      "Epoch 50/100\n",
      "3/3 - 0s - loss: 0.0032 - val_loss: 0.0246 - 46ms/epoch - 15ms/step\n",
      "Epoch 51/100\n",
      "3/3 - 0s - loss: 0.0031 - val_loss: 0.0216 - 44ms/epoch - 15ms/step\n",
      "Epoch 52/100\n",
      "3/3 - 0s - loss: 0.0031 - val_loss: 0.0193 - 50ms/epoch - 17ms/step\n",
      "Epoch 53/100\n",
      "3/3 - 0s - loss: 0.0030 - val_loss: 0.0199 - 42ms/epoch - 14ms/step\n",
      "Epoch 54/100\n",
      "3/3 - 0s - loss: 0.0030 - val_loss: 0.0212 - 47ms/epoch - 16ms/step\n",
      "Epoch 55/100\n",
      "3/3 - 0s - loss: 0.0029 - val_loss: 0.0229 - 51ms/epoch - 17ms/step\n",
      "Epoch 56/100\n",
      "3/3 - 0s - loss: 0.0029 - val_loss: 0.0225 - 52ms/epoch - 17ms/step\n",
      "Epoch 57/100\n",
      "3/3 - 0s - loss: 0.0029 - val_loss: 0.0211 - 57ms/epoch - 19ms/step\n",
      "Epoch 58/100\n",
      "3/3 - 0s - loss: 0.0028 - val_loss: 0.0176 - 47ms/epoch - 16ms/step\n",
      "Epoch 59/100\n",
      "3/3 - 0s - loss: 0.0028 - val_loss: 0.0161 - 52ms/epoch - 17ms/step\n",
      "Epoch 60/100\n",
      "3/3 - 0s - loss: 0.0027 - val_loss: 0.0177 - 44ms/epoch - 15ms/step\n",
      "Epoch 61/100\n",
      "3/3 - 0s - loss: 0.0027 - val_loss: 0.0203 - 44ms/epoch - 15ms/step\n",
      "Epoch 62/100\n",
      "3/3 - 0s - loss: 0.0026 - val_loss: 0.0195 - 54ms/epoch - 18ms/step\n",
      "Epoch 63/100\n",
      "3/3 - 0s - loss: 0.0026 - val_loss: 0.0170 - 45ms/epoch - 15ms/step\n",
      "Epoch 64/100\n",
      "3/3 - 0s - loss: 0.0025 - val_loss: 0.0175 - 57ms/epoch - 19ms/step\n",
      "Epoch 65/100\n",
      "3/3 - 0s - loss: 0.0025 - val_loss: 0.0166 - 47ms/epoch - 16ms/step\n",
      "Epoch 66/100\n",
      "3/3 - 0s - loss: 0.0025 - val_loss: 0.0145 - 53ms/epoch - 18ms/step\n",
      "Epoch 67/100\n",
      "3/3 - 0s - loss: 0.0024 - val_loss: 0.0153 - 56ms/epoch - 19ms/step\n",
      "Epoch 68/100\n",
      "3/3 - 0s - loss: 0.0023 - val_loss: 0.0164 - 52ms/epoch - 17ms/step\n",
      "Epoch 69/100\n",
      "3/3 - 0s - loss: 0.0024 - val_loss: 0.0183 - 48ms/epoch - 16ms/step\n",
      "Epoch 70/100\n",
      "3/3 - 0s - loss: 0.0024 - val_loss: 0.0170 - 51ms/epoch - 17ms/step\n",
      "Epoch 71/100\n",
      "3/3 - 0s - loss: 0.0023 - val_loss: 0.0142 - 51ms/epoch - 17ms/step\n",
      "Epoch 72/100\n",
      "3/3 - 0s - loss: 0.0022 - val_loss: 0.0142 - 53ms/epoch - 18ms/step\n",
      "Epoch 73/100\n",
      "3/3 - 0s - loss: 0.0022 - val_loss: 0.0139 - 49ms/epoch - 16ms/step\n",
      "Epoch 74/100\n",
      "3/3 - 0s - loss: 0.0022 - val_loss: 0.0142 - 52ms/epoch - 17ms/step\n",
      "Epoch 75/100\n",
      "3/3 - 0s - loss: 0.0021 - val_loss: 0.0147 - 44ms/epoch - 15ms/step\n",
      "Epoch 76/100\n",
      "3/3 - 0s - loss: 0.0021 - val_loss: 0.0144 - 53ms/epoch - 18ms/step\n",
      "Epoch 77/100\n",
      "3/3 - 0s - loss: 0.0021 - val_loss: 0.0139 - 49ms/epoch - 16ms/step\n",
      "Epoch 78/100\n",
      "3/3 - 0s - loss: 0.0021 - val_loss: 0.0125 - 55ms/epoch - 18ms/step\n",
      "Epoch 79/100\n",
      "3/3 - 0s - loss: 0.0021 - val_loss: 0.0113 - 51ms/epoch - 17ms/step\n",
      "Epoch 80/100\n",
      "3/3 - 0s - loss: 0.0020 - val_loss: 0.0118 - 46ms/epoch - 15ms/step\n",
      "Epoch 81/100\n",
      "3/3 - 0s - loss: 0.0020 - val_loss: 0.0124 - 45ms/epoch - 15ms/step\n",
      "Epoch 82/100\n",
      "3/3 - 0s - loss: 0.0020 - val_loss: 0.0138 - 55ms/epoch - 18ms/step\n",
      "Epoch 83/100\n",
      "3/3 - 0s - loss: 0.0020 - val_loss: 0.0117 - 44ms/epoch - 15ms/step\n",
      "Epoch 84/100\n",
      "3/3 - 0s - loss: 0.0019 - val_loss: 0.0107 - 54ms/epoch - 18ms/step\n",
      "Epoch 85/100\n",
      "3/3 - 0s - loss: 0.0019 - val_loss: 0.0115 - 53ms/epoch - 18ms/step\n",
      "Epoch 86/100\n",
      "3/3 - 0s - loss: 0.0019 - val_loss: 0.0111 - 49ms/epoch - 16ms/step\n",
      "Epoch 87/100\n",
      "3/3 - 0s - loss: 0.0019 - val_loss: 0.0109 - 48ms/epoch - 16ms/step\n",
      "Epoch 88/100\n",
      "3/3 - 0s - loss: 0.0019 - val_loss: 0.0122 - 45ms/epoch - 15ms/step\n",
      "Epoch 89/100\n",
      "3/3 - 0s - loss: 0.0019 - val_loss: 0.0120 - 55ms/epoch - 18ms/step\n",
      "Epoch 90/100\n",
      "3/3 - 0s - loss: 0.0018 - val_loss: 0.0102 - 54ms/epoch - 18ms/step\n",
      "Epoch 91/100\n",
      "3/3 - 0s - loss: 0.0019 - val_loss: 0.0092 - 52ms/epoch - 17ms/step\n",
      "Epoch 92/100\n",
      "3/3 - 0s - loss: 0.0018 - val_loss: 0.0106 - 53ms/epoch - 18ms/step\n",
      "Epoch 93/100\n",
      "3/3 - 0s - loss: 0.0018 - val_loss: 0.0123 - 52ms/epoch - 17ms/step\n",
      "Epoch 94/100\n",
      "3/3 - 0s - loss: 0.0018 - val_loss: 0.0125 - 54ms/epoch - 18ms/step\n",
      "Epoch 95/100\n",
      "3/3 - 0s - loss: 0.0018 - val_loss: 0.0098 - 47ms/epoch - 16ms/step\n",
      "Epoch 96/100\n",
      "3/3 - 0s - loss: 0.0018 - val_loss: 0.0088 - 46ms/epoch - 15ms/step\n",
      "Epoch 97/100\n",
      "3/3 - 0s - loss: 0.0018 - val_loss: 0.0096 - 48ms/epoch - 16ms/step\n",
      "Epoch 98/100\n",
      "3/3 - 0s - loss: 0.0017 - val_loss: 0.0124 - 46ms/epoch - 15ms/step\n",
      "Epoch 99/100\n",
      "3/3 - 0s - loss: 0.0018 - val_loss: 0.0119 - 54ms/epoch - 18ms/step\n",
      "Epoch 100/100\n",
      "3/3 - 0s - loss: 0.0017 - val_loss: 0.0092 - 45ms/epoch - 15ms/step\n",
      "3/3 [==============================] - 0s 4ms/step\n",
      "2/2 [==============================] - 0s 5ms/step\n"
     ]
    }
   ],
   "source": [
    "model.fit(trainX, trainY, validation_data=(testX, testY),\n",
    "          verbose=2, epochs=100)\n",
    "\n",
    "\n",
    "# make predictions\n",
    "\n",
    "trainPredict = model.predict(trainX)\n",
    "testPredict = model.predict(testX)"
   ]
  },
  {
   "cell_type": "code",
   "execution_count": 20,
   "id": "d5f348f4",
   "metadata": {
    "execution": {
     "iopub.execute_input": "2023-05-24T15:48:18.710524Z",
     "iopub.status.busy": "2023-05-24T15:48:18.710114Z",
     "iopub.status.idle": "2023-05-24T15:48:18.718179Z",
     "shell.execute_reply": "2023-05-24T15:48:18.716816Z"
    },
    "papermill": {
     "duration": 0.042223,
     "end_time": "2023-05-24T15:48:18.720794",
     "exception": false,
     "start_time": "2023-05-24T15:48:18.678571",
     "status": "completed"
    },
    "tags": []
   },
   "outputs": [],
   "source": [
    "# invert predictions back to prescaled values\n",
    "#This is to compare with original input values\n",
    "#SInce we used minmaxscaler we can now use scaler.inverse_transform\n",
    "#to invert the transformation.\n",
    "trainPredict = scaler.inverse_transform(trainPredict)\n",
    "trainY = scaler.inverse_transform([trainY])\n",
    "testPredict = scaler.inverse_transform(testPredict)\n",
    "testY = scaler.inverse_transform([testY])"
   ]
  },
  {
   "cell_type": "code",
   "execution_count": 21,
   "id": "f4f1b443",
   "metadata": {
    "execution": {
     "iopub.execute_input": "2023-05-24T15:48:18.781611Z",
     "iopub.status.busy": "2023-05-24T15:48:18.781198Z",
     "iopub.status.idle": "2023-05-24T15:48:18.790767Z",
     "shell.execute_reply": "2023-05-24T15:48:18.789224Z"
    },
    "papermill": {
     "duration": 0.043182,
     "end_time": "2023-05-24T15:48:18.793376",
     "exception": false,
     "start_time": "2023-05-24T15:48:18.750194",
     "status": "completed"
    },
    "tags": []
   },
   "outputs": [
    {
     "name": "stdout",
     "output_type": "stream",
     "text": [
      "Train Score: 21.28 RMSE\n",
      "Test Score: 49.65 RMSE\n"
     ]
    }
   ],
   "source": [
    "# calculate root mean squared error\n",
    "trainScore = math.sqrt(mean_squared_error(trainY[0], trainPredict[:,0]))\n",
    "print('Train Score: %.2f RMSE' % (trainScore))\n",
    "\n",
    "testScore = math.sqrt(mean_squared_error(testY[0], testPredict[:,0]))\n",
    "print('Test Score: %.2f RMSE' % (testScore))"
   ]
  },
  {
   "cell_type": "code",
   "execution_count": 22,
   "id": "1f2b7f99",
   "metadata": {
    "execution": {
     "iopub.execute_input": "2023-05-24T15:48:18.855154Z",
     "iopub.status.busy": "2023-05-24T15:48:18.854754Z",
     "iopub.status.idle": "2023-05-24T15:48:19.129469Z",
     "shell.execute_reply": "2023-05-24T15:48:19.128328Z"
    },
    "papermill": {
     "duration": 0.308873,
     "end_time": "2023-05-24T15:48:19.132367",
     "exception": false,
     "start_time": "2023-05-24T15:48:18.823494",
     "status": "completed"
    },
    "tags": []
   },
   "outputs": [
    {
     "data": {
      "image/png": "[encoded data removed]",
      "text/plain": [
       "<Figure size 640x480 with 1 Axes>"
      ]
     },
     "metadata": {},
     "output_type": "display_data"
    }
   ],
   "source": [
    "# shift train predictions for plotting\n",
    "#we must shift the predictions so that they align on the x-axis with the original dataset. \n",
    "trainPredictPlot = np.empty_like(dataset)\n",
    "trainPredictPlot[:, :] = np.nan\n",
    "trainPredictPlot[seq_size:len(trainPredict)+seq_size, :] = trainPredict\n",
    "\n",
    "# shift test predictions for plotting\n",
    "testPredictPlot = np.empty_like(dataset)\n",
    "testPredictPlot[:, :] = np.nan\n",
    "testPredictPlot[len(trainPredict)+(seq_size*2)+1:len(dataset)-1, :] = testPredict\n",
    "\n",
    "# plot baseline and predictions\n",
    "plt.plot(scaler.inverse_transform(dataset))\n",
    "plt.plot(trainPredictPlot)\n",
    "plt.plot(testPredictPlot)\n",
    "plt.show()"
   ]
  }
 ],
 "metadata": {
  "kernelspec": {
   "display_name": "Python 3",
   "language": "python",
   "name": "python3"
  },
  "language_info": {
   "codemirror_mode": {
    "name": "ipython",
    "version": 3
   },
   "file_extension": ".py",
   "mimetype": "text/x-python",
   "name": "python",
   "nbconvert_exporter": "python",
   "pygments_lexer": "ipython3",
   "version": "3.10.10"
  },
  "papermill": {
   "default_parameters": {},
   "duration": 40.815352,
   "end_time": "2023-05-24T15:48:21.824431",
   "environment_variables": {},
   "exception": null,
   "input_path": "__notebook__.ipynb",
   "output_path": "__notebook__.ipynb",
   "parameters": {},
   "start_time": "2023-05-24T15:47:41.009079",
   "version": "2.4.0"
  }
 },
 "nbformat": 4,
 "nbformat_minor": 5
}
